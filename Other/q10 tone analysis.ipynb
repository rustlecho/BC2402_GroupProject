{
 "cells": [
  {
   "cell_type": "code",
   "execution_count": null,
   "metadata": {},
   "outputs": [],
   "source": [
    "import pandas as pd\n",
    "from transformers import pipeline\n",
    "\n",
    "# Load the dataset\n",
    "file_path = 'MongoDB/customer_support.json'\n",
    "data = pd.read_json(file_path, lines=True)\n",
    "\n",
    "# Load the Hugging Face emotion classifier model\n",
    "emotion_classifier = pipeline(\"text-classification\", model=\"j-hartmann/emotion-english-distilroberta-base\")\n",
    "\n",
    "# Function to classify the tone of each response\n",
    "def classify_tone(response):\n",
    "    try:\n",
    "        result = emotion_classifier(response)\n",
    "        return result[0]['label']\n",
    "    except Exception as e:\n",
    "        return \"Error\"\n",
    "\n",
    "# Add a 'tone' column by applying the classifier to the 'response' column\n",
    "data['tone'] = data['response'].apply(classify_tone)\n",
    "data['tone_instruction'] = data['instruction'].apply(classify_tone)\n",
    "\n",
    "# Save the updated dataset with the tone column\n",
    "output_file_path = 'customer_support_with_tones.json'\n",
    "data.to_json(output_file_path, orient='records', lines=True)\n",
    "\n",
    "print(f\"Updated file saved to: {output_file_path}\")\n"
   ]
  }
 ],
 "metadata": {
  "kernelspec": {
   "display_name": "Python 3",
   "language": "python",
   "name": "python3"
  },
  "language_info": {
   "codemirror_mode": {
    "name": "ipython",
    "version": 3
   },
   "file_extension": ".py",
   "mimetype": "text/x-python",
   "name": "python",
   "nbconvert_exporter": "python",
   "pygments_lexer": "ipython3",
   "version": "3.12.7"
  }
 },
 "nbformat": 4,
 "nbformat_minor": 2
}
